{
  "nbformat": 4,
  "nbformat_minor": 0,
  "metadata": {
    "colab": {
      "name": "ContinuationLogisticRegressionInPython.ipynb",
      "provenance": [],
      "collapsed_sections": [],
      "toc_visible": true,
      "include_colab_link": true
    },
    "kernelspec": {
      "name": "python3",
      "display_name": "Python 3"
    },
    "language_info": {
      "name": "python"
    }
  },
  "cells": [
    {
      "cell_type": "markdown",
      "metadata": {
        "id": "view-in-github",
        "colab_type": "text"
      },
      "source": [
        "<a href=\"https://colab.research.google.com/github/zoramardjoko/pgss2021/blob/main/ContinuationLogisticRegressionInPython.ipynb\" target=\"_parent\"><img src=\"https://colab.research.google.com/assets/colab-badge.svg\" alt=\"Open In Colab\"/></a>"
      ]
    },
    {
      "cell_type": "markdown",
      "metadata": {
        "id": "uzYmC4AnjWmC"
      },
      "source": [
        "# Connect google drive to this VM\n"
      ]
    },
    {
      "cell_type": "code",
      "metadata": {
        "colab": {
          "base_uri": "https://localhost:8080/"
        },
        "id": "v_mrIcYfBTu4",
        "outputId": "f92d17df-f22d-4a3b-f6c7-d692501dd292"
      },
      "source": [
        "from google.colab import drive\n",
        "drive.mount('/content/gdrive/')"
      ],
      "execution_count": null,
      "outputs": [
        {
          "output_type": "stream",
          "text": [
            "Mounted at /content/gdrive/\n"
          ],
          "name": "stdout"
        }
      ]
    },
    {
      "cell_type": "markdown",
      "metadata": {
        "id": "iIRDLx92jaK5"
      },
      "source": [
        "# Read our data file on the British seatbelt study\n",
        "\n"
      ]
    },
    {
      "cell_type": "code",
      "metadata": {
        "colab": {
          "base_uri": "https://localhost:8080/",
          "height": 206
        },
        "id": "sQ4dhSy1BeZu",
        "outputId": "9d778854-3181-4e04-df73-327bf0f6fb28"
      },
      "source": [
        "import pandas as pd\n",
        "\n",
        "df = pd.read_csv(\"/content/gdrive/MyDrive/PGSS2021/L2-792021/britishSeatBeltStudy.csv\")\n",
        "df.head()"
      ],
      "execution_count": null,
      "outputs": [
        {
          "output_type": "execute_result",
          "data": {
            "text/html": [
              "<div>\n",
              "<style scoped>\n",
              "    .dataframe tbody tr th:only-of-type {\n",
              "        vertical-align: middle;\n",
              "    }\n",
              "\n",
              "    .dataframe tbody tr th {\n",
              "        vertical-align: top;\n",
              "    }\n",
              "\n",
              "    .dataframe thead th {\n",
              "        text-align: right;\n",
              "    }\n",
              "</style>\n",
              "<table border=\"1\" class=\"dataframe\">\n",
              "  <thead>\n",
              "    <tr style=\"text-align: right;\">\n",
              "      <th></th>\n",
              "      <th>DriversKilled</th>\n",
              "      <th>drivers</th>\n",
              "      <th>front</th>\n",
              "      <th>rear</th>\n",
              "      <th>kms</th>\n",
              "      <th>PetrolPrice</th>\n",
              "      <th>VanKilled</th>\n",
              "      <th>law</th>\n",
              "      <th>Date</th>\n",
              "    </tr>\n",
              "  </thead>\n",
              "  <tbody>\n",
              "    <tr>\n",
              "      <th>0</th>\n",
              "      <td>107</td>\n",
              "      <td>1687</td>\n",
              "      <td>867</td>\n",
              "      <td>269</td>\n",
              "      <td>9059</td>\n",
              "      <td>0.102972</td>\n",
              "      <td>12</td>\n",
              "      <td>0</td>\n",
              "      <td>1969-01-01</td>\n",
              "    </tr>\n",
              "    <tr>\n",
              "      <th>1</th>\n",
              "      <td>97</td>\n",
              "      <td>1508</td>\n",
              "      <td>825</td>\n",
              "      <td>265</td>\n",
              "      <td>7685</td>\n",
              "      <td>0.102363</td>\n",
              "      <td>6</td>\n",
              "      <td>0</td>\n",
              "      <td>1969-02-01</td>\n",
              "    </tr>\n",
              "    <tr>\n",
              "      <th>2</th>\n",
              "      <td>102</td>\n",
              "      <td>1507</td>\n",
              "      <td>806</td>\n",
              "      <td>319</td>\n",
              "      <td>9963</td>\n",
              "      <td>0.102062</td>\n",
              "      <td>12</td>\n",
              "      <td>0</td>\n",
              "      <td>1969-03-01</td>\n",
              "    </tr>\n",
              "    <tr>\n",
              "      <th>3</th>\n",
              "      <td>87</td>\n",
              "      <td>1385</td>\n",
              "      <td>814</td>\n",
              "      <td>407</td>\n",
              "      <td>10955</td>\n",
              "      <td>0.100873</td>\n",
              "      <td>8</td>\n",
              "      <td>0</td>\n",
              "      <td>1969-04-01</td>\n",
              "    </tr>\n",
              "    <tr>\n",
              "      <th>4</th>\n",
              "      <td>119</td>\n",
              "      <td>1632</td>\n",
              "      <td>991</td>\n",
              "      <td>454</td>\n",
              "      <td>11823</td>\n",
              "      <td>0.101020</td>\n",
              "      <td>10</td>\n",
              "      <td>0</td>\n",
              "      <td>1969-05-01</td>\n",
              "    </tr>\n",
              "  </tbody>\n",
              "</table>\n",
              "</div>"
            ],
            "text/plain": [
              "   DriversKilled  drivers  front  rear  ...  PetrolPrice  VanKilled  law        Date\n",
              "0            107     1687    867   269  ...     0.102972         12    0  1969-01-01\n",
              "1             97     1508    825   265  ...     0.102363          6    0  1969-02-01\n",
              "2            102     1507    806   319  ...     0.102062         12    0  1969-03-01\n",
              "3             87     1385    814   407  ...     0.100873          8    0  1969-04-01\n",
              "4            119     1632    991   454  ...     0.101020         10    0  1969-05-01\n",
              "\n",
              "[5 rows x 9 columns]"
            ]
          },
          "metadata": {
            "tags": []
          },
          "execution_count": 2
        }
      ]
    },
    {
      "cell_type": "markdown",
      "metadata": {
        "id": "0oP98ijKjhTX"
      },
      "source": [
        "# Adjust the column types here and check the data frame for information on column-specific types"
      ]
    },
    {
      "cell_type": "code",
      "metadata": {
        "colab": {
          "base_uri": "https://localhost:8080/"
        },
        "id": "RNO2yRQrBuPz",
        "outputId": "4c2fb46d-067b-4122-c594-e91cdfd67cad"
      },
      "source": [
        "df[\"law\"] = df[\"law\"].astype(\"category\")\n",
        "df.info()"
      ],
      "execution_count": null,
      "outputs": [
        {
          "output_type": "stream",
          "text": [
            "<class 'pandas.core.frame.DataFrame'>\n",
            "RangeIndex: 192 entries, 0 to 191\n",
            "Data columns (total 9 columns):\n",
            " #   Column         Non-Null Count  Dtype   \n",
            "---  ------         --------------  -----   \n",
            " 0   DriversKilled  192 non-null    int64   \n",
            " 1   drivers        192 non-null    int64   \n",
            " 2   front          192 non-null    int64   \n",
            " 3   rear           192 non-null    int64   \n",
            " 4   kms            192 non-null    int64   \n",
            " 5   PetrolPrice    192 non-null    float64 \n",
            " 6   VanKilled      192 non-null    int64   \n",
            " 7   law            192 non-null    category\n",
            " 8   Date           192 non-null    object  \n",
            "dtypes: category(1), float64(1), int64(6), object(1)\n",
            "memory usage: 12.4+ KB\n"
          ],
          "name": "stdout"
        }
      ]
    },
    {
      "cell_type": "markdown",
      "metadata": {
        "id": "7aDsn-oLjnRm"
      },
      "source": [
        "# Load SKLearn's linear model for logistic regression and fit it against our dataset, identifying a separate variable, X for regressors, and y for the response variable (binary in this case)"
      ]
    },
    {
      "cell_type": "code",
      "metadata": {
        "colab": {
          "base_uri": "https://localhost:8080/"
        },
        "id": "-OC9UDCYAgAl",
        "outputId": "a93023aa-fd16-442d-d789-d96c5fed4bf2"
      },
      "source": [
        "from sklearn.linear_model import LogisticRegression \n",
        "from sklearn import metrics\n",
        "\n",
        "X=df[['DriversKilled', 'VanKilled']]  # Features\n",
        "y=df['law'].astype('category')  # Labels\n",
        "\n",
        "myModel = LogisticRegression()\n",
        "myModel.fit(X,y)\n"
      ],
      "execution_count": null,
      "outputs": [
        {
          "output_type": "execute_result",
          "data": {
            "text/plain": [
              "0"
            ]
          },
          "metadata": {
            "tags": []
          },
          "execution_count": 4
        }
      ]
    },
    {
      "cell_type": "markdown",
      "metadata": {
        "id": "I3i5G2zNjv0x"
      },
      "source": [
        "# Evaluate the fitted model on some test examples"
      ]
    },
    {
      "cell_type": "code",
      "metadata": {
        "colab": {
          "base_uri": "https://localhost:8080/"
        },
        "id": "SFSfaGUqCQk0",
        "outputId": "ba941022-e155-4cdb-ad66-4cafe008154e"
      },
      "source": [
        "y_pred = myModel.predict([[100, 10]])[0]\n",
        "print(\"input: \" + \"[100, 10]\")\n",
        "print(\"output: \" + str(y_pred))\n",
        "\n",
        "y_pred = myModel.predict([[10, 1]])[0]\n",
        "print(\"input: \" + \"[10, 1]\")\n",
        "print(\"output: \" + str(y_pred))"
      ],
      "execution_count": null,
      "outputs": [
        {
          "output_type": "stream",
          "text": [
            "input: [100, 10]\n",
            "output: 0\n",
            "input: [10, 1]\n",
            "output: 1\n"
          ],
          "name": "stdout"
        }
      ]
    },
    {
      "cell_type": "markdown",
      "metadata": {
        "id": "uE8o3oASkD8S"
      },
      "source": [
        "# Test the model's ability to predict a bunch of records at once, by passing in our initial training matrix, X, into the model.  Then prepare a Confusion Matrix to compare prediction counts against actual counts for each class of law=1 or law=0"
      ]
    },
    {
      "cell_type": "code",
      "metadata": {
        "colab": {
          "base_uri": "https://localhost:8080/",
          "height": 143
        },
        "id": "fYNvtxDhCYEH",
        "outputId": "5544f161-7df0-4999-db3f-979c7b6b319a"
      },
      "source": [
        "y_pred = myModel.predict(X)\n",
        "pd.crosstab(y, y_pred)"
      ],
      "execution_count": null,
      "outputs": [
        {
          "output_type": "execute_result",
          "data": {
            "text/html": [
              "<div>\n",
              "<style scoped>\n",
              "    .dataframe tbody tr th:only-of-type {\n",
              "        vertical-align: middle;\n",
              "    }\n",
              "\n",
              "    .dataframe tbody tr th {\n",
              "        vertical-align: top;\n",
              "    }\n",
              "\n",
              "    .dataframe thead th {\n",
              "        text-align: right;\n",
              "    }\n",
              "</style>\n",
              "<table border=\"1\" class=\"dataframe\">\n",
              "  <thead>\n",
              "    <tr style=\"text-align: right;\">\n",
              "      <th>col_0</th>\n",
              "      <th>0</th>\n",
              "      <th>1</th>\n",
              "    </tr>\n",
              "    <tr>\n",
              "      <th>law</th>\n",
              "      <th></th>\n",
              "      <th></th>\n",
              "    </tr>\n",
              "  </thead>\n",
              "  <tbody>\n",
              "    <tr>\n",
              "      <th>0</th>\n",
              "      <td>166</td>\n",
              "      <td>3</td>\n",
              "    </tr>\n",
              "    <tr>\n",
              "      <th>1</th>\n",
              "      <td>16</td>\n",
              "      <td>7</td>\n",
              "    </tr>\n",
              "  </tbody>\n",
              "</table>\n",
              "</div>"
            ],
            "text/plain": [
              "col_0    0  1\n",
              "law          \n",
              "0      166  3\n",
              "1       16  7"
            ]
          },
          "metadata": {
            "tags": []
          },
          "execution_count": 6
        }
      ]
    },
    {
      "cell_type": "code",
      "metadata": {
        "colab": {
          "base_uri": "https://localhost:8080/"
        },
        "id": "fSLtdA3tCgYu",
        "outputId": "314f3bc5-e292-4eb2-afd9-f4ba1b66ac96"
      },
      "source": [
        "from sklearn.metrics import confusion_matrix\n",
        "confusion_matrix_0 = confusion_matrix (y, y_pred)\n",
        "confusion_matrix_0"
      ],
      "execution_count": null,
      "outputs": [
        {
          "output_type": "execute_result",
          "data": {
            "text/plain": [
              "array([[166,   3],\n",
              "       [ 16,   7]])"
            ]
          },
          "metadata": {
            "tags": []
          },
          "execution_count": 7
        }
      ]
    },
    {
      "cell_type": "markdown",
      "metadata": {
        "id": "rDsU36zDkPg1"
      },
      "source": [
        "# Lets create some statistics around the group / batch prediction accuracies using the default threshold for probability of law=1 (which is 0.5 by default)"
      ]
    },
    {
      "cell_type": "code",
      "metadata": {
        "colab": {
          "base_uri": "https://localhost:8080/"
        },
        "id": "k2G9QN4jC1Co",
        "outputId": "cd88b989-35ed-486d-c4d3-a285587378b0"
      },
      "source": [
        "from sklearn.metrics import classification_report\n",
        "cr = classification_report(y, y_pred)\n",
        "\n",
        "print(cr)"
      ],
      "execution_count": null,
      "outputs": [
        {
          "output_type": "stream",
          "text": [
            "              precision    recall  f1-score   support\n",
            "\n",
            "           0       0.91      0.98      0.95       169\n",
            "           1       0.70      0.30      0.42        23\n",
            "\n",
            "    accuracy                           0.90       192\n",
            "   macro avg       0.81      0.64      0.69       192\n",
            "weighted avg       0.89      0.90      0.88       192\n",
            "\n"
          ],
          "name": "stdout"
        }
      ]
    },
    {
      "cell_type": "markdown",
      "metadata": {
        "id": "HVjHGHAekV_X"
      },
      "source": [
        "# Optimize the model-specific probability threshold to improve the model prediction stats"
      ]
    },
    {
      "cell_type": "code",
      "metadata": {
        "colab": {
          "base_uri": "https://localhost:8080/"
        },
        "id": "pZbpaQ45DC3P",
        "outputId": "5858e609-0a55-49da-f1e6-e26daa3e26d1"
      },
      "source": [
        "# Fine tune the model with a better probability cut-off to get better results in the training set\n",
        "\n",
        "from sklearn.metrics import classification_report\n",
        "y_pred = myModel.predict_proba(X)[:,1]\n",
        "\n",
        "cr = classification_report(y, y_pred>0.15)\n",
        "print(confusion_matrix (y, y_pred>0.15))\n",
        "print(cr)"
      ],
      "execution_count": null,
      "outputs": [
        {
          "output_type": "stream",
          "text": [
            "[[137  32]\n",
            " [  5  18]]\n",
            "              precision    recall  f1-score   support\n",
            "\n",
            "           0       0.96      0.81      0.88       169\n",
            "           1       0.36      0.78      0.49        23\n",
            "\n",
            "    accuracy                           0.81       192\n",
            "   macro avg       0.66      0.80      0.69       192\n",
            "weighted avg       0.89      0.81      0.83       192\n",
            "\n"
          ],
          "name": "stdout"
        }
      ]
    },
    {
      "cell_type": "code",
      "metadata": {
        "colab": {
          "base_uri": "https://localhost:8080/"
        },
        "id": "mPzULABBDSUe",
        "outputId": "dcb7c8a5-57d0-4d54-962d-fc3b8c9ec567"
      },
      "source": [
        "# Fine tune the model with a better probability cut-off to get better results in the training set [This time lets optimize using the log odds]\n",
        "\n",
        "from sklearn.metrics import classification_report\n",
        "y_pred = myModel.predict_log_proba(X)[:,1]\n",
        "\n",
        "cr = classification_report(y, y_pred>-2)\n",
        "print(confusion_matrix (y, y_pred>-2))\n",
        "print(cr)"
      ],
      "execution_count": null,
      "outputs": [
        {
          "output_type": "stream",
          "text": [
            "[[135  34]\n",
            " [  5  18]]\n",
            "              precision    recall  f1-score   support\n",
            "\n",
            "           0       0.96      0.80      0.87       169\n",
            "           1       0.35      0.78      0.48        23\n",
            "\n",
            "    accuracy                           0.80       192\n",
            "   macro avg       0.66      0.79      0.68       192\n",
            "weighted avg       0.89      0.80      0.83       192\n",
            "\n"
          ],
          "name": "stdout"
        }
      ]
    },
    {
      "cell_type": "markdown",
      "metadata": {
        "id": "72SIOfEJiwOx"
      },
      "source": [
        "# Let's save the model that we prepared above, myModel, to a neutral binary file that can live and operate by itself"
      ]
    },
    {
      "cell_type": "code",
      "metadata": {
        "id": "-5jP7YumEPHk"
      },
      "source": [
        "import pickle\n",
        "model_filename = 'british-Seatbelt-Study-model.pkl'\n",
        "pickle.dump(myModel, open(model_filename,'wb'))\n"
      ],
      "execution_count": null,
      "outputs": []
    },
    {
      "cell_type": "code",
      "metadata": {
        "colab": {
          "base_uri": "https://localhost:8080/"
        },
        "id": "NWFeWAO3i49L",
        "outputId": "de2c9ed0-6e6d-4ed2-916c-8dca860f8ece"
      },
      "source": [
        "reloadedModel = pickle.load(open('british-Seatbelt-Study-model.pkl','rb'))\n",
        "print(reloadedModel.predict([[100, 10]]))"
      ],
      "execution_count": null,
      "outputs": [
        {
          "output_type": "stream",
          "text": [
            "[0]\n"
          ],
          "name": "stdout"
        }
      ]
    },
    {
      "cell_type": "code",
      "metadata": {
        "colab": {
          "base_uri": "https://localhost:8080/"
        },
        "id": "Y-jY_ZAajJr6",
        "outputId": "7d3fb82e-8fd0-4f11-8d24-06e2c1df2250"
      },
      "source": [
        "print(reloadedModel.predict([[10, 1]]))"
      ],
      "execution_count": null,
      "outputs": [
        {
          "output_type": "stream",
          "text": [
            "[1]\n"
          ],
          "name": "stdout"
        }
      ]
    },
    {
      "cell_type": "code",
      "metadata": {
        "id": "GKlat1lSjLtS"
      },
      "source": [
        ""
      ],
      "execution_count": null,
      "outputs": []
    }
  ]
}
